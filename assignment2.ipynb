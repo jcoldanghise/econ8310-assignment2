{
 "cells": [
  {
   "cell_type": "code",
   "execution_count": 2,
   "id": "098b2971-5d7a-4d7f-aec2-3400a31a72b0",
   "metadata": {},
   "outputs": [],
   "source": [
    "import pandas as pd\n",
    "import numpy as np"
   ]
  },
  {
   "cell_type": "code",
   "execution_count": 3,
   "id": "be25f143",
   "metadata": {},
   "outputs": [],
   "source": [
    "from sklearn.preprocessing import StandardScaler"
   ]
  },
  {
   "cell_type": "code",
   "execution_count": 4,
   "id": "eb5f2d7d",
   "metadata": {},
   "outputs": [],
   "source": [
    "scaler = StandardScaler()"
   ]
  },
  {
   "cell_type": "code",
   "execution_count": 5,
   "id": "f26e8b31",
   "metadata": {},
   "outputs": [
    {
     "data": {
      "text/html": [
       "<div>\n",
       "<style scoped>\n",
       "    .dataframe tbody tr th:only-of-type {\n",
       "        vertical-align: middle;\n",
       "    }\n",
       "\n",
       "    .dataframe tbody tr th {\n",
       "        vertical-align: top;\n",
       "    }\n",
       "\n",
       "    .dataframe thead th {\n",
       "        text-align: right;\n",
       "    }\n",
       "</style>\n",
       "<table border=\"1\" class=\"dataframe\">\n",
       "  <thead>\n",
       "    <tr style=\"text-align: right;\">\n",
       "      <th></th>\n",
       "      <th>id</th>\n",
       "      <th>DateTime</th>\n",
       "      <th>Total</th>\n",
       "      <th>Discounts</th>\n",
       "      <th>Brewed_Coffee_12_oz</th>\n",
       "      <th>Brewed_Coffee_16_oz</th>\n",
       "      <th>Aquafina_Water</th>\n",
       "      <th>Muffin_Pastry_Case</th>\n",
       "      <th>Extra_Syrup</th>\n",
       "      <th>Bottled_Soda_Mt_Dew</th>\n",
       "      <th>...</th>\n",
       "      <th>Sweet_Pomegranate</th>\n",
       "      <th>Gatorade_Grape</th>\n",
       "      <th>White_Mocha_12_oz</th>\n",
       "      <th>Whipped_Topping</th>\n",
       "      <th>Starbucks_DS_Mocha</th>\n",
       "      <th>Hot_Chocolate_16_oz</th>\n",
       "      <th>Dr_Pepper</th>\n",
       "      <th>Ocean_Spray_CranGrape</th>\n",
       "      <th>Gum_Peppermint</th>\n",
       "      <th>meal</th>\n",
       "    </tr>\n",
       "  </thead>\n",
       "  <tbody>\n",
       "    <tr>\n",
       "      <th>0</th>\n",
       "      <td>9AYC</td>\n",
       "      <td>2019-01-07 08:02:00</td>\n",
       "      <td>3.96</td>\n",
       "      <td>0.0</td>\n",
       "      <td>0</td>\n",
       "      <td>0</td>\n",
       "      <td>0</td>\n",
       "      <td>0</td>\n",
       "      <td>0</td>\n",
       "      <td>0</td>\n",
       "      <td>...</td>\n",
       "      <td>0</td>\n",
       "      <td>0</td>\n",
       "      <td>0</td>\n",
       "      <td>0</td>\n",
       "      <td>0</td>\n",
       "      <td>0</td>\n",
       "      <td>0</td>\n",
       "      <td>0</td>\n",
       "      <td>0</td>\n",
       "      <td>0</td>\n",
       "    </tr>\n",
       "    <tr>\n",
       "      <th>1</th>\n",
       "      <td>6IPU</td>\n",
       "      <td>2019-01-07 08:03:00</td>\n",
       "      <td>3.57</td>\n",
       "      <td>0.0</td>\n",
       "      <td>0</td>\n",
       "      <td>0</td>\n",
       "      <td>0</td>\n",
       "      <td>0</td>\n",
       "      <td>0</td>\n",
       "      <td>0</td>\n",
       "      <td>...</td>\n",
       "      <td>0</td>\n",
       "      <td>0</td>\n",
       "      <td>0</td>\n",
       "      <td>1</td>\n",
       "      <td>0</td>\n",
       "      <td>1</td>\n",
       "      <td>0</td>\n",
       "      <td>0</td>\n",
       "      <td>0</td>\n",
       "      <td>0</td>\n",
       "    </tr>\n",
       "    <tr>\n",
       "      <th>2</th>\n",
       "      <td>IIG5</td>\n",
       "      <td>2019-01-07 08:07:00</td>\n",
       "      <td>2.21</td>\n",
       "      <td>0.0</td>\n",
       "      <td>0</td>\n",
       "      <td>1</td>\n",
       "      <td>1</td>\n",
       "      <td>0</td>\n",
       "      <td>0</td>\n",
       "      <td>0</td>\n",
       "      <td>...</td>\n",
       "      <td>0</td>\n",
       "      <td>0</td>\n",
       "      <td>0</td>\n",
       "      <td>0</td>\n",
       "      <td>0</td>\n",
       "      <td>0</td>\n",
       "      <td>0</td>\n",
       "      <td>0</td>\n",
       "      <td>0</td>\n",
       "      <td>0</td>\n",
       "    </tr>\n",
       "    <tr>\n",
       "      <th>3</th>\n",
       "      <td>RG5T</td>\n",
       "      <td>2019-01-07 08:22:00</td>\n",
       "      <td>2.84</td>\n",
       "      <td>0.0</td>\n",
       "      <td>0</td>\n",
       "      <td>0</td>\n",
       "      <td>0</td>\n",
       "      <td>0</td>\n",
       "      <td>0</td>\n",
       "      <td>0</td>\n",
       "      <td>...</td>\n",
       "      <td>0</td>\n",
       "      <td>0</td>\n",
       "      <td>0</td>\n",
       "      <td>0</td>\n",
       "      <td>1</td>\n",
       "      <td>0</td>\n",
       "      <td>0</td>\n",
       "      <td>0</td>\n",
       "      <td>0</td>\n",
       "      <td>0</td>\n",
       "    </tr>\n",
       "    <tr>\n",
       "      <th>4</th>\n",
       "      <td>9F4F</td>\n",
       "      <td>2019-01-07 08:24:00</td>\n",
       "      <td>4.58</td>\n",
       "      <td>0.0</td>\n",
       "      <td>0</td>\n",
       "      <td>0</td>\n",
       "      <td>0</td>\n",
       "      <td>0</td>\n",
       "      <td>0</td>\n",
       "      <td>0</td>\n",
       "      <td>...</td>\n",
       "      <td>0</td>\n",
       "      <td>0</td>\n",
       "      <td>0</td>\n",
       "      <td>0</td>\n",
       "      <td>0</td>\n",
       "      <td>0</td>\n",
       "      <td>0</td>\n",
       "      <td>0</td>\n",
       "      <td>0</td>\n",
       "      <td>0</td>\n",
       "    </tr>\n",
       "  </tbody>\n",
       "</table>\n",
       "<p>5 rows × 84 columns</p>\n",
       "</div>"
      ],
      "text/plain": [
       "     id             DateTime  Total  Discounts  Brewed_Coffee_12_oz  \\\n",
       "0  9AYC  2019-01-07 08:02:00   3.96        0.0                    0   \n",
       "1  6IPU  2019-01-07 08:03:00   3.57        0.0                    0   \n",
       "2  IIG5  2019-01-07 08:07:00   2.21        0.0                    0   \n",
       "3  RG5T  2019-01-07 08:22:00   2.84        0.0                    0   \n",
       "4  9F4F  2019-01-07 08:24:00   4.58        0.0                    0   \n",
       "\n",
       "   Brewed_Coffee_16_oz  Aquafina_Water  Muffin_Pastry_Case  Extra_Syrup  \\\n",
       "0                    0               0                   0            0   \n",
       "1                    0               0                   0            0   \n",
       "2                    1               1                   0            0   \n",
       "3                    0               0                   0            0   \n",
       "4                    0               0                   0            0   \n",
       "\n",
       "   Bottled_Soda_Mt_Dew  ...  Sweet_Pomegranate  Gatorade_Grape  \\\n",
       "0                    0  ...                  0               0   \n",
       "1                    0  ...                  0               0   \n",
       "2                    0  ...                  0               0   \n",
       "3                    0  ...                  0               0   \n",
       "4                    0  ...                  0               0   \n",
       "\n",
       "   White_Mocha_12_oz  Whipped_Topping  Starbucks_DS_Mocha  \\\n",
       "0                  0                0                   0   \n",
       "1                  0                1                   0   \n",
       "2                  0                0                   0   \n",
       "3                  0                0                   1   \n",
       "4                  0                0                   0   \n",
       "\n",
       "   Hot_Chocolate_16_oz  Dr_Pepper  Ocean_Spray_CranGrape  Gum_Peppermint  meal  \n",
       "0                    0          0                      0               0     0  \n",
       "1                    1          0                      0               0     0  \n",
       "2                    0          0                      0               0     0  \n",
       "3                    0          0                      0               0     0  \n",
       "4                    0          0                      0               0     0  \n",
       "\n",
       "[5 rows x 84 columns]"
      ]
     },
     "execution_count": 5,
     "metadata": {},
     "output_type": "execute_result"
    }
   ],
   "source": [
    "# Load train dataset\n",
    "train_df = pd.read_csv('https://github.com/dustywhite7/Econ8310/raw/master/AssignmentData/assignment3.csv')\n",
    "train_df.head()"
   ]
  },
  {
   "cell_type": "code",
   "execution_count": 6,
   "id": "d1dbc0cb",
   "metadata": {},
   "outputs": [
    {
     "data": {
      "text/plain": [
       "meal\n",
       "0    11665\n",
       "1     2504\n",
       "Name: count, dtype: int64"
      ]
     },
     "execution_count": 6,
     "metadata": {},
     "output_type": "execute_result"
    }
   ],
   "source": [
    "train_df.meal.value_counts()"
   ]
  },
  {
   "cell_type": "code",
   "execution_count": 7,
   "id": "84e534d8",
   "metadata": {},
   "outputs": [],
   "source": [
    "drop_columns = ['id','DateTime','meal']"
   ]
  },
  {
   "cell_type": "code",
   "execution_count": 8,
   "id": "69b5b0b5",
   "metadata": {},
   "outputs": [],
   "source": [
    "train_df['DateTime'] = pd.to_datetime(train_df['DateTime'])"
   ]
  },
  {
   "cell_type": "code",
   "execution_count": 9,
   "id": "eaf1aff2",
   "metadata": {},
   "outputs": [
    {
     "data": {
      "text/plain": [
       "id                               object\n",
       "DateTime                 datetime64[ns]\n",
       "Total                           float64\n",
       "Discounts                       float64\n",
       "Brewed_Coffee_12_oz               int64\n",
       "                              ...      \n",
       "Hot_Chocolate_16_oz               int64\n",
       "Dr_Pepper                         int64\n",
       "Ocean_Spray_CranGrape             int64\n",
       "Gum_Peppermint                    int64\n",
       "meal                              int64\n",
       "Length: 84, dtype: object"
      ]
     },
     "execution_count": 9,
     "metadata": {},
     "output_type": "execute_result"
    }
   ],
   "source": [
    "train_df.dtypes"
   ]
  },
  {
   "cell_type": "code",
   "execution_count": 10,
   "id": "c5d683b0",
   "metadata": {},
   "outputs": [
    {
     "data": {
      "text/html": [
       "<div>\n",
       "<style scoped>\n",
       "    .dataframe tbody tr th:only-of-type {\n",
       "        vertical-align: middle;\n",
       "    }\n",
       "\n",
       "    .dataframe tbody tr th {\n",
       "        vertical-align: top;\n",
       "    }\n",
       "\n",
       "    .dataframe thead th {\n",
       "        text-align: right;\n",
       "    }\n",
       "</style>\n",
       "<table border=\"1\" class=\"dataframe\">\n",
       "  <thead>\n",
       "    <tr style=\"text-align: right;\">\n",
       "      <th></th>\n",
       "      <th>id</th>\n",
       "      <th>DateTime</th>\n",
       "      <th>Total</th>\n",
       "      <th>Discounts</th>\n",
       "      <th>Brewed_Coffee_12_oz</th>\n",
       "      <th>Brewed_Coffee_16_oz</th>\n",
       "      <th>Aquafina_Water</th>\n",
       "      <th>Muffin_Pastry_Case</th>\n",
       "      <th>Extra_Syrup</th>\n",
       "      <th>Bottled_Soda_Mt_Dew</th>\n",
       "      <th>...</th>\n",
       "      <th>Sweet_Pomegranate</th>\n",
       "      <th>Gatorade_Grape</th>\n",
       "      <th>White_Mocha_12_oz</th>\n",
       "      <th>Whipped_Topping</th>\n",
       "      <th>Starbucks_DS_Mocha</th>\n",
       "      <th>Hot_Chocolate_16_oz</th>\n",
       "      <th>Dr_Pepper</th>\n",
       "      <th>Ocean_Spray_CranGrape</th>\n",
       "      <th>Gum_Peppermint</th>\n",
       "      <th>meal</th>\n",
       "    </tr>\n",
       "  </thead>\n",
       "  <tbody>\n",
       "    <tr>\n",
       "      <th>0</th>\n",
       "      <td>MNC7</td>\n",
       "      <td>2019-05-02 11:08:00</td>\n",
       "      <td>4.06</td>\n",
       "      <td>0.0</td>\n",
       "      <td>0</td>\n",
       "      <td>0</td>\n",
       "      <td>0</td>\n",
       "      <td>0</td>\n",
       "      <td>0</td>\n",
       "      <td>0</td>\n",
       "      <td>...</td>\n",
       "      <td>0</td>\n",
       "      <td>0</td>\n",
       "      <td>0</td>\n",
       "      <td>0</td>\n",
       "      <td>0</td>\n",
       "      <td>0</td>\n",
       "      <td>0</td>\n",
       "      <td>0</td>\n",
       "      <td>0</td>\n",
       "      <td>NaN</td>\n",
       "    </tr>\n",
       "    <tr>\n",
       "      <th>1</th>\n",
       "      <td>X1WE</td>\n",
       "      <td>2019-05-02 11:09:00</td>\n",
       "      <td>1.74</td>\n",
       "      <td>0.0</td>\n",
       "      <td>0</td>\n",
       "      <td>0</td>\n",
       "      <td>0</td>\n",
       "      <td>0</td>\n",
       "      <td>0</td>\n",
       "      <td>0</td>\n",
       "      <td>...</td>\n",
       "      <td>0</td>\n",
       "      <td>1</td>\n",
       "      <td>0</td>\n",
       "      <td>0</td>\n",
       "      <td>0</td>\n",
       "      <td>0</td>\n",
       "      <td>0</td>\n",
       "      <td>0</td>\n",
       "      <td>0</td>\n",
       "      <td>NaN</td>\n",
       "    </tr>\n",
       "    <tr>\n",
       "      <th>2</th>\n",
       "      <td>8V7V</td>\n",
       "      <td>2019-05-02 11:11:00</td>\n",
       "      <td>0.25</td>\n",
       "      <td>0.0</td>\n",
       "      <td>0</td>\n",
       "      <td>0</td>\n",
       "      <td>0</td>\n",
       "      <td>0</td>\n",
       "      <td>0</td>\n",
       "      <td>0</td>\n",
       "      <td>...</td>\n",
       "      <td>0</td>\n",
       "      <td>0</td>\n",
       "      <td>0</td>\n",
       "      <td>0</td>\n",
       "      <td>0</td>\n",
       "      <td>0</td>\n",
       "      <td>0</td>\n",
       "      <td>0</td>\n",
       "      <td>0</td>\n",
       "      <td>NaN</td>\n",
       "    </tr>\n",
       "    <tr>\n",
       "      <th>3</th>\n",
       "      <td>81U1</td>\n",
       "      <td>2019-05-02 11:17:00</td>\n",
       "      <td>2.20</td>\n",
       "      <td>0.0</td>\n",
       "      <td>0</td>\n",
       "      <td>1</td>\n",
       "      <td>0</td>\n",
       "      <td>0</td>\n",
       "      <td>0</td>\n",
       "      <td>0</td>\n",
       "      <td>...</td>\n",
       "      <td>0</td>\n",
       "      <td>0</td>\n",
       "      <td>0</td>\n",
       "      <td>0</td>\n",
       "      <td>0</td>\n",
       "      <td>0</td>\n",
       "      <td>0</td>\n",
       "      <td>0</td>\n",
       "      <td>0</td>\n",
       "      <td>NaN</td>\n",
       "    </tr>\n",
       "    <tr>\n",
       "      <th>4</th>\n",
       "      <td>DTQ8</td>\n",
       "      <td>2019-05-02 11:23:00</td>\n",
       "      <td>8.01</td>\n",
       "      <td>0.0</td>\n",
       "      <td>0</td>\n",
       "      <td>0</td>\n",
       "      <td>0</td>\n",
       "      <td>0</td>\n",
       "      <td>0</td>\n",
       "      <td>0</td>\n",
       "      <td>...</td>\n",
       "      <td>0</td>\n",
       "      <td>0</td>\n",
       "      <td>0</td>\n",
       "      <td>0</td>\n",
       "      <td>0</td>\n",
       "      <td>0</td>\n",
       "      <td>0</td>\n",
       "      <td>0</td>\n",
       "      <td>0</td>\n",
       "      <td>NaN</td>\n",
       "    </tr>\n",
       "  </tbody>\n",
       "</table>\n",
       "<p>5 rows × 84 columns</p>\n",
       "</div>"
      ],
      "text/plain": [
       "     id             DateTime  Total  Discounts  Brewed_Coffee_12_oz  \\\n",
       "0  MNC7  2019-05-02 11:08:00   4.06        0.0                    0   \n",
       "1  X1WE  2019-05-02 11:09:00   1.74        0.0                    0   \n",
       "2  8V7V  2019-05-02 11:11:00   0.25        0.0                    0   \n",
       "3  81U1  2019-05-02 11:17:00   2.20        0.0                    0   \n",
       "4  DTQ8  2019-05-02 11:23:00   8.01        0.0                    0   \n",
       "\n",
       "   Brewed_Coffee_16_oz  Aquafina_Water  Muffin_Pastry_Case  Extra_Syrup  \\\n",
       "0                    0               0                   0            0   \n",
       "1                    0               0                   0            0   \n",
       "2                    0               0                   0            0   \n",
       "3                    1               0                   0            0   \n",
       "4                    0               0                   0            0   \n",
       "\n",
       "   Bottled_Soda_Mt_Dew  ...  Sweet_Pomegranate  Gatorade_Grape  \\\n",
       "0                    0  ...                  0               0   \n",
       "1                    0  ...                  0               1   \n",
       "2                    0  ...                  0               0   \n",
       "3                    0  ...                  0               0   \n",
       "4                    0  ...                  0               0   \n",
       "\n",
       "   White_Mocha_12_oz  Whipped_Topping  Starbucks_DS_Mocha  \\\n",
       "0                  0                0                   0   \n",
       "1                  0                0                   0   \n",
       "2                  0                0                   0   \n",
       "3                  0                0                   0   \n",
       "4                  0                0                   0   \n",
       "\n",
       "   Hot_Chocolate_16_oz  Dr_Pepper  Ocean_Spray_CranGrape  Gum_Peppermint  meal  \n",
       "0                    0          0                      0               0   NaN  \n",
       "1                    0          0                      0               0   NaN  \n",
       "2                    0          0                      0               0   NaN  \n",
       "3                    0          0                      0               0   NaN  \n",
       "4                    0          0                      0               0   NaN  \n",
       "\n",
       "[5 rows x 84 columns]"
      ]
     },
     "execution_count": 10,
     "metadata": {},
     "output_type": "execute_result"
    }
   ],
   "source": [
    "# Load test dataset\n",
    "test_df = pd.read_csv('https://github.com/dustywhite7/Econ8310/raw/master/AssignmentData/assignment3test.csv')\n",
    "test_df.head()"
   ]
  },
  {
   "cell_type": "code",
   "execution_count": 11,
   "id": "1aa2f75f",
   "metadata": {},
   "outputs": [],
   "source": [
    "train_df['Total'] = scaler.fit_transform(train_df[['Total']]) # Standardize total column"
   ]
  },
  {
   "cell_type": "code",
   "execution_count": 12,
   "id": "b1f3332d",
   "metadata": {},
   "outputs": [],
   "source": [
    "test_df['Total'] = scaler.fit_transform(test_df[['Total']]) # Standardize total column"
   ]
  },
  {
   "cell_type": "code",
   "execution_count": 13,
   "id": "c7f56462",
   "metadata": {},
   "outputs": [
    {
     "data": {
      "text/plain": [
       "np.float64(-3.877971335836874)"
      ]
     },
     "execution_count": 13,
     "metadata": {},
     "output_type": "execute_result"
    }
   ],
   "source": [
    "train_df.Total.min()"
   ]
  },
  {
   "cell_type": "code",
   "execution_count": 14,
   "id": "4463966c",
   "metadata": {},
   "outputs": [],
   "source": [
    "test_df['DateTime'] = pd.to_datetime(test_df['DateTime'])"
   ]
  },
  {
   "cell_type": "code",
   "execution_count": null,
   "id": "f33a3f3f",
   "metadata": {},
   "outputs": [],
   "source": [
    "from xgboost import XGBClassifier"
   ]
  },
  {
   "cell_type": "code",
   "execution_count": 15,
   "id": "0eb9010c",
   "metadata": {},
   "outputs": [],
   "source": [
    "from sklearn.model_selection import train_test_split\n",
    "from sklearn.metrics import accuracy_score"
   ]
  },
  {
   "cell_type": "code",
   "execution_count": 17,
   "id": "b50a9fcd",
   "metadata": {},
   "outputs": [],
   "source": [
    "# Upper case before split, lower case after\n",
    "Y = train_df['meal']\n",
    "# make sure you drop a column with the axis=1 argument\n",
    "X = train_df.drop(drop_columns, axis=1) \n",
    "\n",
    "x_train, x_test, y_train, y_test = train_test_split(X, Y, test_size=0.3, stratify=Y)"
   ]
  },
  {
   "cell_type": "code",
   "execution_count": 83,
   "id": "dc6c0a9f",
   "metadata": {},
   "outputs": [],
   "source": [
    "model = XGBClassifier(n_estimators=100, max_depth=10, objective='binary:logistic')"
   ]
  },
  {
   "cell_type": "code",
   "execution_count": 84,
   "id": "7e6892f4",
   "metadata": {},
   "outputs": [],
   "source": [
    "modelFit = model.fit(X, Y)"
   ]
  },
  {
   "cell_type": "code",
   "execution_count": 85,
   "id": "d3faab3d",
   "metadata": {},
   "outputs": [],
   "source": [
    "pred = modelFit.predict(x_test)"
   ]
  },
  {
   "cell_type": "code",
   "execution_count": 80,
   "id": "da730fa8",
   "metadata": {},
   "outputs": [
    {
     "data": {
      "text/plain": [
       "1639     0\n",
       "7580     1\n",
       "1195     0\n",
       "3852     1\n",
       "8731     0\n",
       "        ..\n",
       "4832     0\n",
       "11875    1\n",
       "9624     0\n",
       "7067     0\n",
       "1033     1\n",
       "Name: meal, Length: 4251, dtype: int64"
      ]
     },
     "execution_count": 80,
     "metadata": {},
     "output_type": "execute_result"
    }
   ],
   "source": [
    "y_test"
   ]
  },
  {
   "cell_type": "code",
   "execution_count": 81,
   "id": "bc642127",
   "metadata": {},
   "outputs": [
    {
     "name": "stdout",
     "output_type": "stream",
     "text": [
      "88.35568101623149\n"
     ]
    }
   ],
   "source": [
    "print(accuracy_score(y_test, pred)*100)"
   ]
  },
  {
   "cell_type": "code",
   "execution_count": 86,
   "id": "2eb74f98",
   "metadata": {},
   "outputs": [],
   "source": [
    "Y_test = modelFit.predict(test_df.drop(drop_columns, axis=1))"
   ]
  },
  {
   "cell_type": "code",
   "execution_count": null,
   "id": "0cd89c73",
   "metadata": {},
   "outputs": [],
   "source": []
  },
  {
   "cell_type": "markdown",
   "id": "5a3f61be",
   "metadata": {},
   "source": [
    "### Random Forest"
   ]
  },
  {
   "cell_type": "code",
   "execution_count": 34,
   "id": "c54d8fb6",
   "metadata": {},
   "outputs": [],
   "source": [
    "# Randomly create train and test data\n",
    "x, xt, y, yt = train_test_split(X, Y, test_size = 0.3, stratify=Y)"
   ]
  },
  {
   "cell_type": "code",
   "execution_count": 35,
   "id": "cc72955f",
   "metadata": {},
   "outputs": [
    {
     "name": "stdout",
     "output_type": "stream",
     "text": [
      "\n",
      "The decision tree has an accuracy of : 0.8694424841213833\n",
      "\n"
     ]
    }
   ],
   "source": [
    "from sklearn.tree import DecisionTreeClassifier\n",
    "\n",
    "# Generate the tree model\n",
    "tree = DecisionTreeClassifier(max_depth=15, min_samples_leaf=20)\n",
    "# Fit the tree to the training data\n",
    "tclf = tree.fit(x, y)\n",
    "# Make predictions\n",
    "tpred = tclf.predict(xt)\n",
    "# Print the accuracy score of the fitted model\n",
    "print(\"\\nThe decision tree has an accuracy of : %s\\n\" \n",
    "\t% str(accuracy_score(tpred, yt)))"
   ]
  },
  {
   "cell_type": "code",
   "execution_count": 37,
   "id": "8d299597",
   "metadata": {},
   "outputs": [
    {
     "name": "stdout",
     "output_type": "stream",
     "text": [
      "The random forest has an accuracy of : 0.8800282286520819\n",
      "\n"
     ]
    }
   ],
   "source": [
    "from sklearn.ensemble import RandomForestClassifier\n",
    "\n",
    "# Generate the random forest model\n",
    "forest = RandomForestClassifier(n_estimators=100, n_jobs = -1)\n",
    "# Fit the model to the training data\n",
    "fclf = forest.fit(x, y)\n",
    "# Make predictions\n",
    "fpred = fclf.predict(xt)\n",
    "# Print the accuracy score of the fitted model\n",
    "print(\"The random forest has an accuracy of : %s\\n\" \n",
    "\t% str(accuracy_score(fpred, yt)))"
   ]
  },
  {
   "cell_type": "code",
   "execution_count": 38,
   "id": "21d1ec7f",
   "metadata": {},
   "outputs": [],
   "source": [
    "# Generate the random forest model\n",
    "model = RandomForestClassifier(n_estimators=100, n_jobs = -1)"
   ]
  },
  {
   "cell_type": "code",
   "execution_count": 42,
   "id": "2864be4a",
   "metadata": {},
   "outputs": [],
   "source": [
    "modelFit = model.fit(X, Y)"
   ]
  },
  {
   "cell_type": "code",
   "execution_count": 43,
   "id": "3f973baa",
   "metadata": {},
   "outputs": [],
   "source": [
    "pred = modelFit.predict(test_df.drop(drop_columns, axis=1))"
   ]
  },
  {
   "cell_type": "code",
   "execution_count": 44,
   "id": "13a82620",
   "metadata": {},
   "outputs": [
    {
     "data": {
      "text/plain": [
       "array([1, 0, 0, 0, 0, 0, 0, 0, 0, 0, 0, 1, 0, 0, 1, 0, 0, 0, 0, 1, 0, 0,\n",
       "       0, 0, 0, 0, 0, 0, 1, 1, 0, 1, 0, 0, 0, 0, 0, 0, 0, 0, 0, 0, 0, 1,\n",
       "       0, 0, 0, 0, 0, 0, 0, 0, 1, 0, 0, 0, 0, 1, 0, 0, 0, 1, 0, 0, 0, 1,\n",
       "       1, 0, 0, 0, 0, 0, 0, 0, 0, 1, 0, 0, 0, 0, 0, 0, 0, 1, 0, 0, 0, 0,\n",
       "       0, 0, 0, 0, 0, 0, 0, 0, 0, 0, 0, 0, 0, 0, 0, 0, 0, 0, 0, 0, 0, 0,\n",
       "       0, 0, 0, 0, 0, 0, 0, 0, 0, 0, 0, 0, 0, 0, 0, 0, 0, 1, 1, 0, 0, 0,\n",
       "       0, 1, 0, 1, 0, 0, 0, 0, 0, 0, 0, 0, 0, 0, 0, 0, 0, 0, 0, 0, 0, 0,\n",
       "       0, 0, 0, 0, 0, 1, 0, 0, 0, 0, 0, 0, 1, 0, 1, 1, 0, 0, 0, 0, 0, 1,\n",
       "       0, 0, 0, 1, 0, 0, 0, 0, 0, 1, 0, 0, 0, 0, 0, 0, 0, 0, 1, 0, 0, 0,\n",
       "       0, 0, 1, 0, 0, 0, 1, 1, 0, 0, 1, 0, 0, 0, 0, 1, 0, 0, 0, 0, 0, 0,\n",
       "       0, 1, 0, 1, 0, 1, 0, 0, 0, 0, 0, 0, 0, 0, 0, 0, 0, 0, 0, 1, 0, 0,\n",
       "       0, 0, 0, 0, 0, 1, 0, 0, 0, 0, 0, 0, 0, 0, 0, 1, 0, 1, 0, 0, 0, 0,\n",
       "       0, 0, 1, 0, 0, 1, 0, 0, 0, 0, 0, 0, 1, 0, 0, 0, 0, 0, 1, 0, 0, 0,\n",
       "       0, 0, 0, 0, 0, 0, 1, 0, 0, 0, 0, 0, 0, 0, 0, 0, 0, 0, 0, 1, 0, 0,\n",
       "       0, 0, 1, 0, 1, 1, 0, 0, 0, 0, 0, 0, 0, 0, 0, 1, 0, 0, 0, 0, 0, 0,\n",
       "       0, 0, 0, 1, 0, 0, 0, 1, 0, 0, 0, 0, 1, 0, 0, 0, 0, 0, 1, 0, 0, 0,\n",
       "       0, 0, 0, 0, 0, 0, 0, 0, 0, 0, 0, 0, 0, 0, 0, 0, 1, 0, 0, 0, 0, 0,\n",
       "       1, 0, 0, 0, 0, 0, 0, 0, 0, 0, 0, 0, 0, 1, 0, 0, 0, 0, 0, 0, 0, 1,\n",
       "       1, 0, 1, 0, 0, 0, 1, 0, 0, 0, 0, 0, 1, 0, 0, 0, 0, 1, 1, 0, 0, 0,\n",
       "       0, 0, 0, 0, 0, 0, 0, 0, 0, 0, 1, 0, 0, 1, 0, 1, 1, 0, 0, 0, 1, 0,\n",
       "       0, 0, 0, 0, 0, 0, 0, 0, 0, 0, 0, 0, 0, 0, 1, 0, 0, 0, 0, 0, 0, 0,\n",
       "       0, 0, 0, 0, 0, 0, 1, 0, 1, 0, 0, 0, 0, 0, 1, 0, 0, 0, 0, 1, 0, 1,\n",
       "       0, 0, 0, 0, 0, 0, 0, 0, 0, 0, 1, 0, 0, 0, 0, 0, 0, 0, 0, 0, 0, 0,\n",
       "       0, 0, 0, 0, 0, 0, 0, 0, 0, 0, 0, 0, 1, 0, 0, 0, 0, 0, 1, 0, 0, 0,\n",
       "       1, 0, 0, 0, 0, 0, 0, 1, 0, 0, 0, 1, 0, 0, 0, 0, 0, 0, 1, 0, 0, 1,\n",
       "       0, 0, 0, 0, 0, 0, 1, 0, 0, 0, 0, 0, 0, 1, 0, 0, 1, 0, 0, 0, 0, 1,\n",
       "       0, 0, 0, 0, 0, 0, 0, 0, 0, 1, 0, 0, 0, 0, 1, 0, 0, 0, 0, 0, 0, 1,\n",
       "       0, 0, 0, 0, 0, 0, 0, 0, 0, 0, 0, 0, 0, 1, 0, 0, 0, 0, 0, 0, 0, 0,\n",
       "       0, 0, 0, 0, 0, 0, 0, 0, 0, 0, 0, 0, 0, 0, 0, 0, 0, 0, 0, 0, 0, 0,\n",
       "       0, 0, 1, 0, 0, 0, 0, 0, 1, 0, 0, 0, 0, 0, 0, 1, 0, 1, 0, 0, 0, 0,\n",
       "       0, 1, 0, 0, 0, 0, 0, 0, 0, 0, 0, 1, 0, 0, 0, 0, 0, 0, 0, 0, 0, 0,\n",
       "       0, 0, 1, 0, 0, 0, 0, 1, 0, 0, 0, 1, 1, 1, 0, 0, 1, 0, 0, 0, 0, 0,\n",
       "       0, 0, 0, 1, 0, 0, 0, 0, 0, 0, 0, 0, 0, 0, 0, 0, 0, 0, 0, 0, 0, 0,\n",
       "       0, 1, 0, 0, 1, 0, 0, 0, 0, 0, 0, 0, 0, 1, 0, 0, 0, 0, 0, 0, 0, 0,\n",
       "       1, 0, 1, 0, 0, 0, 0, 1, 0, 1, 0, 0, 0, 0, 0, 0, 0, 0, 0, 0, 0, 0,\n",
       "       0, 0, 0, 0, 0, 0, 0, 0, 0, 0, 0, 1, 0, 0, 0, 0, 0, 0, 0, 0, 0, 0,\n",
       "       1, 0, 0, 0, 0, 0, 0, 0, 1, 1, 0, 0, 0, 0, 0, 0, 0, 0, 0, 0, 0, 0,\n",
       "       0, 0, 0, 1, 0, 0, 0, 0, 0, 0, 0, 0, 0, 0, 0, 0, 0, 0, 1, 0, 0, 0,\n",
       "       0, 0, 0, 0, 0, 0, 0, 0, 0, 0, 1, 0, 0, 0, 1, 0, 1, 0, 0, 1, 0, 0,\n",
       "       0, 0, 0, 0, 1, 0, 0, 0, 0, 0, 0, 0, 0, 0, 0, 0, 0, 0, 0, 0, 0, 0,\n",
       "       0, 0, 0, 1, 0, 0, 0, 0, 0, 1, 0, 0, 1, 0, 0, 0, 0, 0, 1, 0, 0, 1,\n",
       "       0, 0, 1, 0, 0, 1, 0, 0, 0, 0, 0, 1, 0, 0, 0, 0, 1, 0, 0, 0, 0, 0,\n",
       "       0, 1, 0, 0, 0, 0, 0, 1, 0, 1, 0, 0, 0, 0, 0, 1, 0, 1, 0, 0, 0, 1,\n",
       "       0, 0, 0, 1, 0, 0, 0, 0, 0, 0, 0, 0, 0, 0, 1, 0, 1, 0, 0, 0, 1, 1,\n",
       "       0, 0, 0, 0, 0, 0, 0, 0, 0, 0, 0, 0, 0, 0, 0, 0, 1, 0, 1, 0, 0, 0,\n",
       "       0, 0, 0, 0, 0, 0, 0, 1, 0, 0])"
      ]
     },
     "execution_count": 44,
     "metadata": {},
     "output_type": "execute_result"
    }
   ],
   "source": [
    "pred"
   ]
  },
  {
   "cell_type": "code",
   "execution_count": null,
   "id": "d118b0b2",
   "metadata": {},
   "outputs": [],
   "source": []
  }
 ],
 "metadata": {
  "kernelspec": {
   "display_name": "Python 3",
   "language": "python",
   "name": "python3"
  },
  "language_info": {
   "codemirror_mode": {
    "name": "ipython",
    "version": 3
   },
   "file_extension": ".py",
   "mimetype": "text/x-python",
   "name": "python",
   "nbconvert_exporter": "python",
   "pygments_lexer": "ipython3",
   "version": "3.10.12"
  }
 },
 "nbformat": 4,
 "nbformat_minor": 5
}
